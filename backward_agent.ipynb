{
  "cells": [
    {
      "cell_type": "code",
      "source": [
        "!mkdir levels"
      ],
      "metadata": {
        "id": "YRHGjuB9yrrR"
      },
      "execution_count": null,
      "outputs": []
    },
    {
      "cell_type": "code",
      "execution_count": null,
      "metadata": {
        "id": "UAcc7ThryqOA"
      },
      "outputs": [],
      "source": [
        "import numpy as np\n",
        "import json\n",
        "import torch\n",
        "import torch.nn as nn\n",
        "import torch.optim as optim\n",
        "import torch.nn.functional as F\n",
        "from tqdm import tqdm\n",
        "import random\n",
        "import importlib\n",
        "import game\n",
        "import matplotlib.pyplot as plt\n",
        "importlib.reload(game)\n",
        "from copy import deepcopy"
      ]
    },
    {
      "cell_type": "markdown",
      "source": [
        "## Backward Agent"
      ],
      "metadata": {
        "id": "qin2EqhIUEwX"
      }
    },
    {
      "cell_type": "code",
      "execution_count": null,
      "metadata": {
        "id": "gM0E2ZlYyqOC"
      },
      "outputs": [],
      "source": [
        "class BackwardValueNetwork(nn.Module):\n",
        "    def __init__(self, input_size=5, output_size=1):\n",
        "        super(BackwardValueNetwork, self).__init__()\n",
        "        self.linear1 = nn.Linear(input_size, 512)\n",
        "        self.linear2 = nn.Linear(512, 512)\n",
        "        self.linear3 = nn.Linear(512, 512)\n",
        "        self.linear4 = nn.Linear(512, output_size)\n",
        "\n",
        "    def forward(self, state):\n",
        "        state = self.linear1(state)\n",
        "        state = self.linear2(state)\n",
        "        state = self.linear3(state)\n",
        "        state = self.linear4(state)\n",
        "        return state\n"
      ]
    },
    {
      "cell_type": "code",
      "execution_count": 152,
      "metadata": {
        "id": "_r4Of5rDyqOD"
      },
      "outputs": [],
      "source": [
        "class BackwardAgent():\n",
        "    def __init__(self):\n",
        "        self.value_network = BackwardValueNetwork()\n",
        "        self.optimizer = optim.Adam(self.value_network.parameters(), lr=0.001)\n",
        "        self.loss = nn.MSELoss()\n",
        "        self.gamma = 0.9\n",
        "        self.alpha = 0.1\n",
        "        self.discount = 0.98\n",
        "        self.eps = 0.1\n",
        "        # TODO: might want to add eps decay here\n",
        "\n",
        "    # POST: Returns backward trajectory as specified by the paper\n",
        "    # More precisely returns a list of all board positions visited by the backward agent\n",
        "    # and the packing order as impled by the backward trajectory\n",
        "    # TODO: how should the packing order be calulated? For now the packing order is the order in which the boxes leave the goal they start on.\n",
        "    def backward_trajectory(self, env):\n",
        "        self.value_network.eval()\n",
        "        packing_order = []\n",
        "        positions = [deepcopy(env.box_positions)]\n",
        "\n",
        "        state, reward, done = env.state(gamma=self.gamma)\n",
        "        while not done:\n",
        "            # Choose action\n",
        "            action, next_state, reward, done = self.choose_action(env)\n",
        "\n",
        "            # Update game state if action is chosen\n",
        "            if action is not None:\n",
        "                state, reward, done = env.play(action, gamma=self.gamma)\n",
        "                assert next_state == state, \"State vector mismatch after action\"\n",
        "                if reward != 0:\n",
        "                  assert done, \"Received reward but did not terminate\"\n",
        "\n",
        "            positions = positions + [deepcopy(env.box_positions)]\n",
        "\n",
        "            for i in range(len(env.box_positions)):\n",
        "              if env.box_positions[i][0] != env.goal_positions[i][0] or env.box_positions[i][1] != env.goal_positions[i][1]:\n",
        "                if not i in packing_order:\n",
        "                  packing_order.append(i)\n",
        "        packing_order.reverse()\n",
        "\n",
        "        return positions, packing_order\n",
        "\n",
        "    def policy(self, env):\n",
        "        self.value_network.eval()\n",
        "        legal_moves = env.legal_moves()\n",
        "        value_moves = []\n",
        "        for char in legal_moves:\n",
        "            state, reward, done = env.step(char, gamma=self.gamma)\n",
        "            state_tensor = torch.tensor(state)\n",
        "            value_moves.append([char, state, reward, done, self.value_network(state_tensor)])\n",
        "        return max(value_moves, key=lambda x:x[4])\n",
        "\n",
        "    def random_policy(self, env):\n",
        "      legal_moves = env.legal_moves()\n",
        "      if len(legal_moves)==0:\n",
        "        return None\n",
        "      else:\n",
        "        return random.choice(legal_moves)\n",
        "\n",
        "    def random_baseline(self, number_of_episodes, start, end, plot=True):\n",
        "      wins=[0 for i in range(number_of_episodes)]\n",
        "      moves=[]\n",
        "      for episode in tqdm(range(number_of_episodes)):\n",
        "          # create new game instance\n",
        "          ind = random.randint(start, end)\n",
        "          env = game.ReverseGame(game.Game(level_id=ind), disable_prints=True)\n",
        "          if episode % 100 == 0:\n",
        "              moves.append(env.player_position)\n",
        "          state, reward, done = env.state(gamma=self.gamma)\n",
        "          while not done:\n",
        "            action = self.random_policy(env)\n",
        "            if episode % 100 == 0:\n",
        "              moves.append(action)\n",
        "            if action != None:\n",
        "              state, reward, done = env.play(action, gamma=self.gamma)\n",
        "              wins[episode] = wins[episode] + reward\n",
        "            else:\n",
        "              done = 1\n",
        "      if plot:\n",
        "        plt.plot([sum(wins[:i])/number_of_episodes for i in range(number_of_episodes)], label=\"backward random policy\")\n",
        "        plt.legend()\n",
        "      print(f\"backward agent in [{start}, {end}] random policy solved: {sum(wins)/number_of_episodes}, {sum(wins)}/{number_of_episodes}\")\n",
        "\n",
        "    def eval(self, number_of_tries_per_level, start, end):\n",
        "      for id in range(start, end+1):\n",
        "        for t in range(number_of_tries_per_level):\n",
        "          pass\n",
        "\n",
        "    # The paper originally followed an off policy learning apporach, always updating on the move with the highest reward and sometimes choosing a random action after the TD(0) update\n",
        "    # This potentially causes learning inefficiencies when random actions end the episode and receive rewards.\n",
        "    # For this reason we stick to on policy learning for now\n",
        "\n",
        "    def train(self, number_of_episodes, start, end, plot=True):\n",
        "      wins = [0 for _ in range(number_of_episodes)]\n",
        "      moves = []\n",
        "\n",
        "      for episode in tqdm(range(number_of_episodes)):\n",
        "          ind = random.randint(start, end)\n",
        "          # Initialize the game\n",
        "          env = game.ReverseGame(game.Game(level_id=ind), disable_prints=True)\n",
        "\n",
        "          if episode % 100 == 0:\n",
        "              moves.append(env.player_position)\n",
        "\n",
        "          state, reward, done = env.state(gamma=self.gamma)\n",
        "          while not done:\n",
        "              # Choose action\n",
        "              action, next_state, reward, done = self.choose_action(env)\n",
        "\n",
        "              # TD(0) update\n",
        "              self.update_agent(state, next_state, reward, done)\n",
        "\n",
        "              # Update game state if action is chosen\n",
        "              if action is not None:\n",
        "                  state, reward, done = env.play(action, gamma=self.gamma)\n",
        "                  assert next_state == state, \"State vector mismatch after action\"\n",
        "                  if reward != 0:\n",
        "                    assert done, \"Received reward but did not terminate\"\n",
        "              wins[episode] += reward\n",
        "\n",
        "              if episode % 100 == 0:\n",
        "                  moves.append(action)\n",
        "\n",
        "      if plot:\n",
        "          plt.plot([sum(wins[:i])/number_of_episodes for i in range(number_of_episodes)], label=\"backward greedy policy\")\n",
        "          plt.legend()\n",
        "          file_path = \"backward_run.json\"\n",
        "          json_data = json.dumps(moves)\n",
        "          with open(file_path, \"w\") as file:\n",
        "              file.write(json_data)\n",
        "      print(f\"backward agent in [{start}, {end}] greedy policy solved: {sum(wins)/number_of_episodes}, {sum(wins)}/{number_of_episodes}\")\n",
        "\n",
        "      # return wins, moves\n",
        "\n",
        "    def choose_action(self, env):\n",
        "      action, next_state, next_reward, next_done = None, None, None, None\n",
        "      legal_moves = env.legal_moves()\n",
        "      # agent is stuck and can't move\n",
        "      if len(legal_moves) == 0:\n",
        "        next_state, next_reward, next_done = env.state(gamma=self.gamma)\n",
        "        next_done=1\n",
        "      # exploration\n",
        "      elif np.random.rand() < self.eps:\n",
        "        action = random.choice(legal_moves)\n",
        "        next_state, next_reward, next_done = env.step(action, gamma=self.gamma)\n",
        "      # exploitation\n",
        "      else:\n",
        "        [action, next_state, next_reward, next_done, _] = self.policy(env)\n",
        "      return action, next_state, next_reward, next_done\n",
        "\n",
        "    def update_agent(self, state, next_state, reward, done):\n",
        "      self.value_network.train()\n",
        "      state_tensor = torch.tensor(state)\n",
        "      next_state_tensor = torch.tensor(next_state)\n",
        "      value = self.value_network(state_tensor)\n",
        "      next_value = self.value_network(next_state_tensor)\n",
        "      # TD(0) update: V(s)←V(s)+α(R+γV(s')−V(s))\n",
        "      target = value + self.alpha*(reward + self.gamma*next_value*(1-done) - value)\n",
        "      # calculate loss\n",
        "      loss = self.loss(value, target.detach()) # using detach here to exclude prediction from computation graph as is standard in TD(0)\n",
        "      # optimize\n",
        "      self.optimizer.zero_grad()\n",
        "      loss.backward()\n",
        "      self.optimizer.step()\n",
        "\n"
      ]
    },
    {
      "cell_type": "markdown",
      "source": [
        "### Tests"
      ],
      "metadata": {
        "id": "jWyLeTTTVbfw"
      }
    },
    {
      "cell_type": "code",
      "execution_count": 62,
      "metadata": {
        "colab": {
          "base_uri": "https://localhost:8080/",
          "height": 465
        },
        "id": "veETRjUlyqOE",
        "outputId": "cb3f0b00-03f8-4ba0-c297-0736f97c6e35"
      },
      "outputs": [
        {
          "output_type": "stream",
          "name": "stderr",
          "text": [
            "100%|██████████| 100/100 [00:03<00:00, 31.17it/s]\n"
          ]
        },
        {
          "output_type": "stream",
          "name": "stdout",
          "text": [
            "backward agent in [0, 0] greedy policy solved: 1.0, 100/100\n"
          ]
        },
        {
          "output_type": "display_data",
          "data": {
            "text/plain": [
              "<Figure size 640x480 with 1 Axes>"
            ],
            "image/png": "[encoded data removed]"
          },
          "metadata": {}
        }
      ],
      "source": [
        "torch.manual_seed(40)\n",
        "random.seed(40)\n",
        "np.random.seed(40)\n",
        "backwardagent = BackwardAgent()\n",
        "backwardagent.train(number_of_episodes=100, start=0, end=0)"
      ]
    },
    {
      "cell_type": "code",
      "source": [
        "for i in range(5):\n",
        "  print(f\"{i}:\")\n",
        "  backwardagent = BackwardAgent()\n",
        "  backwardagent.train(number_of_episodes=100, start=9, end=9, plot=False)\n",
        "  backwardagent.random_baseline(number_of_episodes=100, start=9, end=9, plot=False)"
      ],
      "metadata": {
        "colab": {
          "base_uri": "https://localhost:8080/"
        },
        "id": "yFeVmfDYzDAX",
        "outputId": "7f7674bf-a390-4b51-ae22-8059a7b2c9b3"
      },
      "execution_count": 154,
      "outputs": [
        {
          "output_type": "stream",
          "name": "stdout",
          "text": [
            "0:\n"
          ]
        },
        {
          "output_type": "stream",
          "name": "stderr",
          "text": [
            "100%|██████████| 100/100 [00:09<00:00, 10.43it/s]\n"
          ]
        },
        {
          "output_type": "stream",
          "name": "stdout",
          "text": [
            "backward agent in [9, 9] greedy policy solved: 1.0, 100/100\n"
          ]
        },
        {
          "output_type": "stream",
          "name": "stderr",
          "text": [
            "100%|██████████| 100/100 [00:01<00:00, 82.35it/s]\n"
          ]
        },
        {
          "output_type": "stream",
          "name": "stdout",
          "text": [
            "backward agent in [9, 9] random policy solved: 0.7, 70/100\n",
            "1:\n"
          ]
        },
        {
          "output_type": "stream",
          "name": "stderr",
          "text": [
            "100%|██████████| 100/100 [00:13<00:00,  7.40it/s]\n"
          ]
        },
        {
          "output_type": "stream",
          "name": "stdout",
          "text": [
            "backward agent in [9, 9] greedy policy solved: 0.8, 80/100\n"
          ]
        },
        {
          "output_type": "stream",
          "name": "stderr",
          "text": [
            "100%|██████████| 100/100 [00:02<00:00, 49.74it/s]\n"
          ]
        },
        {
          "output_type": "stream",
          "name": "stdout",
          "text": [
            "backward agent in [9, 9] random policy solved: 0.75, 75/100\n",
            "2:\n"
          ]
        },
        {
          "output_type": "stream",
          "name": "stderr",
          "text": [
            "100%|██████████| 100/100 [00:12<00:00,  7.94it/s]\n"
          ]
        },
        {
          "output_type": "stream",
          "name": "stdout",
          "text": [
            "backward agent in [9, 9] greedy policy solved: 0.81, 81/100\n"
          ]
        },
        {
          "output_type": "stream",
          "name": "stderr",
          "text": [
            "100%|██████████| 100/100 [00:01<00:00, 67.08it/s]\n"
          ]
        },
        {
          "output_type": "stream",
          "name": "stdout",
          "text": [
            "backward agent in [9, 9] random policy solved: 0.7, 70/100\n",
            "3:\n"
          ]
        },
        {
          "output_type": "stream",
          "name": "stderr",
          "text": [
            "100%|██████████| 100/100 [00:07<00:00, 12.88it/s]\n"
          ]
        },
        {
          "output_type": "stream",
          "name": "stdout",
          "text": [
            "backward agent in [9, 9] greedy policy solved: 0.96, 96/100\n"
          ]
        },
        {
          "output_type": "stream",
          "name": "stderr",
          "text": [
            "100%|██████████| 100/100 [00:01<00:00, 72.31it/s]\n"
          ]
        },
        {
          "output_type": "stream",
          "name": "stdout",
          "text": [
            "backward agent in [9, 9] random policy solved: 0.73, 73/100\n",
            "4:\n"
          ]
        },
        {
          "output_type": "stream",
          "name": "stderr",
          "text": [
            "100%|██████████| 100/100 [00:07<00:00, 14.22it/s]\n"
          ]
        },
        {
          "output_type": "stream",
          "name": "stdout",
          "text": [
            "backward agent in [9, 9] greedy policy solved: 0.99, 99/100\n"
          ]
        },
        {
          "output_type": "stream",
          "name": "stderr",
          "text": [
            "100%|██████████| 100/100 [00:01<00:00, 79.40it/s]"
          ]
        },
        {
          "output_type": "stream",
          "name": "stdout",
          "text": [
            "backward agent in [9, 9] random policy solved: 0.67, 67/100\n"
          ]
        },
        {
          "output_type": "stream",
          "name": "stderr",
          "text": [
            "\n"
          ]
        }
      ]
    },
    {
      "cell_type": "code",
      "source": [
        "# TODO: seems like the agent smetimes is just one move away from winning but instead runs back and forth\n",
        "torch.manual_seed(42)\n",
        "random.seed(42)\n",
        "np.random.seed(42)\n",
        "backwardagent = BackwardAgent()\n",
        "backwardagent.train(number_of_episodes=400, start=1, end=1)\n",
        "env = game.ReverseGame(game.Game(level_id=1), disable_prints=True)\n",
        "trajectory, packing_order = backwardagent.backward_trajectory(env)\n",
        "print(trajectory)\n",
        "print(f\"packing order: {packing_order}\")"
      ],
      "metadata": {
        "colab": {
          "base_uri": "https://localhost:8080/",
          "height": 519
        },
        "id": "Yzvz9E86oCmh",
        "outputId": "0b7027cb-d247-41ce-c065-214fcac16633"
      },
      "execution_count": null,
      "outputs": [
        {
          "output_type": "stream",
          "name": "stderr",
          "text": [
            "100%|██████████| 400/400 [00:30<00:00, 13.20it/s]\n"
          ]
        },
        {
          "output_type": "stream",
          "name": "stdout",
          "text": [
            "backward agent in [1, 1] greedy policy solved: 0.8875, 355/400\n",
            "[[[1, 2], [3, 1]], [[1, 2], [3, 1]], [[1, 2], [3, 1]], [[1, 2], [3, 1]], [[1, 2], [3, 1]], [[2, 2], [3, 1]], [[3, 2], [3, 1]], [[3, 2], [3, 1]], [[3, 2], [3, 1]], [[3, 2], [3, 1]], [[3, 2], [3, 1]], [[3, 2], [3, 1]], [[3, 2], [3, 1]], [[3, 2], [3, 1]], [[3, 2], [3, 1]], [[4, 2], [3, 1]], [[4, 2], [3, 1]], [[4, 2], [3, 1]], [[4, 2], [4, 1]]]\n",
            "packing order: [0, 1]\n"
          ]
        },
        {
          "output_type": "display_data",
          "data": {
            "text/plain": [
              "<Figure size 640x480 with 1 Axes>"
            ],
            "image/png": "[encoded data removed]"
          },
          "metadata": {}
        }
      ]
    },
    {
      "cell_type": "markdown",
      "source": [
        "## Forward Agent"
      ],
      "metadata": {
        "id": "cBVxulUkUH4M"
      }
    },
    {
      "cell_type": "code",
      "source": [
        "class ForwardValueNetwork(nn.Module):\n",
        "    def __init__(self, input_size=5 + 2, output_size=1):\n",
        "        super(ForwardValueNetwork, self).__init__()\n",
        "        self.linear1 = nn.Linear(input_size, 512)\n",
        "        self.linear2 = nn.Linear(512, 512)\n",
        "        self.linear3 = nn.Linear(512, 512)\n",
        "        self.linear4 = nn.Linear(512, output_size)\n",
        "\n",
        "    def forward(self, state):\n",
        "        state = self.linear1(state)\n",
        "        state = self.linear2(state)\n",
        "        state = self.linear3(state)\n",
        "        state = self.linear4(state)\n",
        "        return state"
      ],
      "metadata": {
        "id": "avCvzeFJULT0"
      },
      "execution_count": 135,
      "outputs": []
    },
    {
      "cell_type": "code",
      "source": [
        "class ForwardAgent():\n",
        "  def __init__(self):\n",
        "    self.value_network = ForwardValueNetwork()\n",
        "    self.optimizer = optim.Adam(self.value_network.parameters(), lr=0.001)\n",
        "    self.loss = nn.MSELoss()\n",
        "    self.gamma = 0.9\n",
        "    self.alpha = 0.1\n",
        "    self.discount = 0.97\n",
        "    self.initial_eps = 1\n",
        "    self.eps = self.initial_eps\n",
        "    self.minimal_eps = 0.1\n",
        "    self.eps_decay = 0.92\n",
        "    self.current_packing_order = []\n",
        "    self.backwardagent = BackwardAgent()\n",
        "    self.backwardagent.value_network.eval()\n",
        "\n",
        "  def overlap(self, box_positions, trajectory):\n",
        "    # TODO: make this more efficient exploting previous overlap calculation\n",
        "    box_position = [[1,2], [3,2]]\n",
        "    trajectory = [[[1,2], [3,2]], [[4, 1], [1,2]], [[0,1],[9,1]]]\n",
        "    set_box_positions = set(map(tuple, box_positions))\n",
        "    overlap = [len(set_box_positions.intersection(set(map(tuple, hist)))) for hist in trajectory]\n",
        "    return max(overlap)\n",
        "\n",
        "  def perm(self, box_positions, packing_order, env):\n",
        "    # TODO: Think about what should happen in the case that a box gets pushed on and off a goal\n",
        "    # TODO: what should happen with boxes that have not been pulled off the goals by the backward agent (backwardagent did not solve the task)\n",
        "    goal_positions = env.goal_positions\n",
        "    for i, box_position in enumerate(box_positions):\n",
        "      if box_position in goal_positions:\n",
        "        if i not in self.current_packing_order:\n",
        "          self.current_packing_order.append(i)\n",
        "    perm = [packing_order[i] == self.current_packing_order[i] for i in range(min(len(self.current_packing_order), len(packing_order)))]\n",
        "    return sum(perm)\n",
        "\n",
        "\n",
        "  def policy(self, env, packing_order, trajectory):\n",
        "    self.value_network.eval()\n",
        "    legal_moves = env.legal_moves()\n",
        "    assert len(legal_moves), \"agent is stuck\"\n",
        "    value_moves = []\n",
        "    for char in legal_moves:\n",
        "        box_positions, state, reward, done = env.step(char, gamma=self.gamma)\n",
        "        feature = self.update_feature_vector(state, box_positions, packing_order, trajectory, env)\n",
        "        feature_tensor = torch.tensor(feature)\n",
        "        value_moves.append([char, feature, reward, done, self.value_network(feature_tensor)])\n",
        "    return max(value_moves, key=lambda x:x[4])\n",
        "\n",
        "  def random_policy(self, env):\n",
        "    legal_moves = env.legal_moves()\n",
        "    if len(legal_moves)==0:\n",
        "      return None\n",
        "    else:\n",
        "      return random.choice(legal_moves)\n",
        "\n",
        "  def random_baseline(self, number_of_episodes, start, end, plot=True):\n",
        "    wins=[0 for i in range(number_of_episodes)]\n",
        "    moves=[]\n",
        "    for episode in tqdm(range(number_of_episodes)):\n",
        "        # create new game instance\n",
        "        ind = random.randint(start, end)\n",
        "        env = game.Game(level_id=ind, disable_prints=True)\n",
        "        if episode % 100 == 0:\n",
        "            moves.append(env.player_position)\n",
        "        _, state, reward, done = env.state(gamma=self.gamma)\n",
        "        while not done:\n",
        "          action = self.random_policy(env)\n",
        "          if episode % 100 == 0:\n",
        "            moves.append(action)\n",
        "          if action != None:\n",
        "            _, state, reward, done = env.play(action, gamma=self.gamma)\n",
        "            wins[episode] = wins[episode] + reward\n",
        "          else:\n",
        "            done = 1\n",
        "    if plot:\n",
        "      plt.plot([sum(wins[:i])/number_of_episodes for i in range(number_of_episodes)], label=\"forward random policy\")\n",
        "      plt.legend()\n",
        "    print(f\"forward agent in [{start}, {end}] random policy solved: {sum(wins)/number_of_episodes}, {sum(wins)}/{number_of_episodes}\")\n",
        "\n",
        "  def train_backward_agent(self, number_of_episodes, start, end):\n",
        "      self.backwardagent.value_network.train()\n",
        "      self.backwardagent.train(number_of_episodes=number_of_episodes, start=start, end=end, plot=False)\n",
        "      self.backwardagent.value_network.eval()\n",
        "\n",
        "  def train(self, number_of_episodes, start, end, plot=True):\n",
        "      wins = [0 for _ in range(number_of_episodes)]\n",
        "      moves = []\n",
        "\n",
        "      for episode in tqdm(range(number_of_episodes)):\n",
        "          if self.eps > self.minimal_eps:\n",
        "            self.eps = self.eps * self.eps_decay\n",
        "          self.eps=0.2\n",
        "          ind = random.randint(start, end)\n",
        "          # Initialize the game\n",
        "          reverse = game.ReverseGame(game.Game(level_id=ind), disable_prints=True)\n",
        "          # TODO: here i think it only makes sense for the agent to start in a specific position, not really if it starts in a random spot\n",
        "          trajectory, packing_order = self.backwardagent.backward_trajectory(reverse)\n",
        "          env = game.Game(level_id=ind, disable_prints=True)\n",
        "\n",
        "          if episode % 100 == 0:\n",
        "              moves.append(env.player_position)\n",
        "\n",
        "          box_positions, state, reward, done = env.state(gamma=self.gamma)\n",
        "          feature = self.update_feature_vector(state, box_positions, packing_order, trajectory, env)\n",
        "          while not done:\n",
        "              # Choose action\n",
        "              action, next_feature, reward, done = self.choose_action(env, packing_order, trajectory)\n",
        "\n",
        "              # TD(0) update\n",
        "              self.update_agent(feature, next_feature, reward, done)\n",
        "\n",
        "              # Update game state if action is chosen\n",
        "              if action is not None:\n",
        "                  box_positions, state, reward, done = env.play(action, gamma=self.gamma)\n",
        "                  expected_feature = self.update_feature_vector(state, box_positions, packing_order, trajectory, env)\n",
        "                  assert next_feature == expected_feature, \"Feature vector mismatch after action\"\n",
        "                  if reward != 0:\n",
        "                    assert done, \"Received reward but did not terminate\"\n",
        "              wins[episode] += reward\n",
        "              feature = next_feature\n",
        "\n",
        "              if episode % 100 == 0:\n",
        "                  moves.append(action)\n",
        "\n",
        "      if plot:\n",
        "          #plt.plot([sum(wins[:i])/number_of_episodes for i in range(number_of_episodes)], label=\"forward greedy policy\")\n",
        "          plt.scatter([i for i in range(len(wins))], wins, label=\"forward greedy policy\")\n",
        "          plt.legend()\n",
        "          file_path = \"forward_run.json\"\n",
        "          json_data = json.dumps(moves)\n",
        "          with open(file_path, \"w\") as file:\n",
        "              file.write(json_data)\n",
        "\n",
        "      print(f\"forward agent in [{start}, {end}] greedy policy solved: {sum(wins)/number_of_episodes}, {sum(wins)}/{number_of_episodes}\")\n",
        "      # return wins, moves\n",
        "\n",
        "  def choose_action(self, env, packing_order, trajectory):\n",
        "    action, next_feature, next_reward, next_done = None, None, None, None\n",
        "    legal_moves = env.legal_moves()\n",
        "    # agent is stuck and can't move\n",
        "    if len(legal_moves) == 0:\n",
        "      next_box_positions, next_state, next_reward, next_done = env.state(gamma=self.gamma)\n",
        "      next_done=1\n",
        "      next_feature = self.update_feature_vector(next_state, next_box_positions, packing_order, trajectory)\n",
        "    # exploration\n",
        "    elif np.random.rand() < self.eps:\n",
        "      action = random.choice(legal_moves)\n",
        "      next_box_positions, next_state, next_reward, next_done = env.step(action, gamma=self.gamma)\n",
        "      next_feature = self.update_feature_vector(next_state, next_box_positions, packing_order, trajectory, env)\n",
        "    # exploitation\n",
        "    else:\n",
        "      [action, next_feature, next_reward, next_done, _] = self.policy(env, packing_order=packing_order, trajectory=trajectory)\n",
        "    return action, next_feature, next_reward, next_done\n",
        "  def update_feature_vector(self, state, box_positions, packing_order, trajectory, env):\n",
        "    return state + [self.perm(box_positions=box_positions, packing_order=packing_order, env=env)] + [self.overlap(box_positions=box_positions, trajectory=trajectory)]\n",
        "\n",
        "  def update_agent(self, feature, next_feature, reward, done):\n",
        "    feature_tensor = torch.tensor(feature)\n",
        "    next_feature_tensor = torch.tensor(next_feature)\n",
        "    value = self.value_network(feature_tensor)\n",
        "    next_value = self.value_network(next_feature_tensor)\n",
        "    # TD(0) update: V(s)←V(s)+α(R+γV(s')−V(s))\n",
        "    target = value + self.alpha*(reward + self.gamma*next_value.detach()*(1-done) - value) # using detach here to exclude prediction from computation graph as is standard in TD(0)\n",
        "    # calculate loss\n",
        "    loss = self.loss(value, target.detach())\n",
        "    # optimize\n",
        "    self.optimizer.zero_grad()\n",
        "    loss.backward()\n",
        "    self.optimizer.step()\n",
        "\n"
      ],
      "metadata": {
        "id": "bFHwlMhpUWYm"
      },
      "execution_count": 150,
      "outputs": []
    },
    {
      "cell_type": "code",
      "source": [
        "torch.manual_seed(40)\n",
        "random.seed(40)\n",
        "np.random.seed(40)\n",
        "forwardagent = ForwardAgent()\n",
        "# forwardagent.train_backward_agent(number_of_episodes=20,start=9,end=9)\n",
        "forwardagent.train(number_of_episodes=100, start=0, end=0)"
      ],
      "metadata": {
        "id": "xxxKRtCGU2jJ",
        "colab": {
          "base_uri": "https://localhost:8080/",
          "height": 465
        },
        "outputId": "013e38f9-1ee6-4171-df28-6c1ce85e561f"
      },
      "execution_count": 151,
      "outputs": [
        {
          "output_type": "stream",
          "name": "stderr",
          "text": [
            "100%|██████████| 100/100 [00:13<00:00,  7.63it/s]\n"
          ]
        },
        {
          "output_type": "stream",
          "name": "stdout",
          "text": [
            "forward agent in [0, 0] greedy policy solved: 1.0, 100/100\n"
          ]
        },
        {
          "output_type": "display_data",
          "data": {
            "text/plain": [
              "<Figure size 640x480 with 1 Axes>"
            ],
            "image/png": "[encoded data removed]"
          },
          "metadata": {}
        }
      ]
    },
    {
      "cell_type": "code",
      "source": [
        "# TODO: it seems like if the agent does not find the goal in the first iteration, its value function converges to a undesirable stationary function\n",
        "# a quick fix might be to just make the first 3 epochs pure exploration (but this mean that agent is only effective if random policy works really well already)\n",
        "for i in range(5):\n",
        "  print(f\"i: {i}\")\n",
        "  forwardagent = ForwardAgent()\n",
        "  forwardagent.train(number_of_episodes=100, start=0, end=0)\n",
        "baseline = ForwardAgent()\n",
        "baseline.random_baseline(number_of_episodes=100, start=0, end=0, plot=False)"
      ],
      "metadata": {
        "id": "BciK3_yuLlwV",
        "colab": {
          "base_uri": "https://localhost:8080/",
          "height": 725
        },
        "outputId": "2c50206f-b56f-4fa2-d0b3-36f2c90eddda"
      },
      "execution_count": 155,
      "outputs": [
        {
          "output_type": "stream",
          "name": "stdout",
          "text": [
            "i: 0\n"
          ]
        },
        {
          "output_type": "stream",
          "name": "stderr",
          "text": [
            "100%|██████████| 100/100 [00:19<00:00,  5.14it/s]\n"
          ]
        },
        {
          "output_type": "stream",
          "name": "stdout",
          "text": [
            "forward agent in [0, 0] greedy policy solved: 1.0, 100/100\n",
            "i: 1\n"
          ]
        },
        {
          "output_type": "stream",
          "name": "stderr",
          "text": [
            "100%|██████████| 100/100 [00:13<00:00,  7.25it/s]\n"
          ]
        },
        {
          "output_type": "stream",
          "name": "stdout",
          "text": [
            "forward agent in [0, 0] greedy policy solved: 1.0, 100/100\n",
            "i: 2\n"
          ]
        },
        {
          "output_type": "stream",
          "name": "stderr",
          "text": [
            "100%|██████████| 100/100 [00:13<00:00,  7.51it/s]\n"
          ]
        },
        {
          "output_type": "stream",
          "name": "stdout",
          "text": [
            "forward agent in [0, 0] greedy policy solved: 1.0, 100/100\n",
            "i: 3\n"
          ]
        },
        {
          "output_type": "stream",
          "name": "stderr",
          "text": [
            "100%|██████████| 100/100 [00:14<00:00,  7.05it/s]\n"
          ]
        },
        {
          "output_type": "stream",
          "name": "stdout",
          "text": [
            "forward agent in [0, 0] greedy policy solved: 0.99, 99/100\n",
            "i: 4\n"
          ]
        },
        {
          "output_type": "stream",
          "name": "stderr",
          "text": [
            "100%|██████████| 100/100 [00:12<00:00,  7.74it/s]\n"
          ]
        },
        {
          "output_type": "stream",
          "name": "stdout",
          "text": [
            "forward agent in [0, 0] greedy policy solved: 1.0, 100/100\n"
          ]
        },
        {
          "output_type": "stream",
          "name": "stderr",
          "text": [
            "100%|██████████| 100/100 [00:03<00:00, 32.75it/s]\n"
          ]
        },
        {
          "output_type": "stream",
          "name": "stdout",
          "text": [
            "forward agent in [0, 0] random policy solved: 0.4, 40/100\n"
          ]
        },
        {
          "output_type": "display_data",
          "data": {
            "text/plain": [
              "<Figure size 640x480 with 1 Axes>"
            ],
            "image/png": "[encoded data removed]"
          },
          "metadata": {}
        }
      ]
    }
  ],
  "metadata": {
    "kernelspec": {
      "display_name": "WarehouseKeeper",
      "language": "python",
      "name": "python3"
    },
    "language_info": {
      "codemirror_mode": {
        "name": "ipython",
        "version": 3
      },
      "file_extension": ".py",
      "mimetype": "text/x-python",
      "name": "python",
      "nbconvert_exporter": "python",
      "pygments_lexer": "ipython3",
      "version": "3.11.8"
    },
    "colab": {
      "provenance": []
    }
  },
  "nbformat": 4,
  "nbformat_minor": 0
}