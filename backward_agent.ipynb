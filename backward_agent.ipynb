{
  "cells": [
    {
      "cell_type": "code",
      "source": [
        "!mkdir levels"
      ],
      "metadata": {
        "id": "YRHGjuB9yrrR"
      },
      "execution_count": 1,
      "outputs": []
    },
    {
      "cell_type": "code",
      "execution_count": 45,
      "metadata": {
        "id": "UAcc7ThryqOA"
      },
      "outputs": [],
      "source": [
        "import numpy as np\n",
        "import json\n",
        "import torch\n",
        "import torch.nn as nn\n",
        "import torch.optim as optim\n",
        "import torch.nn.functional as F\n",
        "from tqdm import tqdm\n",
        "import random\n",
        "import importlib\n",
        "import game\n",
        "import matplotlib.pyplot as plt\n",
        "importlib.reload(game)\n",
        "from copy import deepcopy"
      ]
    },
    {
      "cell_type": "code",
      "execution_count": 46,
      "metadata": {
        "id": "gM0E2ZlYyqOC"
      },
      "outputs": [],
      "source": [
        "class ValueNetwork(nn.Module):\n",
        "    def __init__(self, input_size=5, output_size=1):\n",
        "        super(ValueNetwork, self).__init__()\n",
        "        self.linear1 = nn.Linear(input_size, 512)\n",
        "        self.linear2 = nn.Linear(512, 512)\n",
        "        self.linear3 = nn.Linear(512, 512)\n",
        "        self.linear4 = nn.Linear(512, output_size)\n",
        "\n",
        "    def forward(self, state):\n",
        "        state = self.linear1(state)\n",
        "        state = self.linear2(state)\n",
        "        state = self.linear3(state)\n",
        "        state = self.linear4(state)\n",
        "        return state\n"
      ]
    },
    {
      "cell_type": "code",
      "execution_count": 47,
      "metadata": {
        "id": "_r4Of5rDyqOD"
      },
      "outputs": [],
      "source": [
        "class BackwardAgent():\n",
        "    def __init__(self):\n",
        "        self.value_network = ValueNetwork()\n",
        "        self.optimizer = optim.SGD(self.value_network.parameters(), lr=0.01)\n",
        "        self.loss = nn.MSELoss()\n",
        "        self.gamma = 0.9\n",
        "        self.alpha = 0.1\n",
        "        self.discount = 0.98\n",
        "        self.eps = 0.1\n",
        "\n",
        "    # POST: Returns backward trajectory as specified by the paper\n",
        "    # More precisely returns a list of all board positions visited by the backward agent\n",
        "    # and the packing order as impled by the backward trajectory\n",
        "    def backward_trajectory(self, env):\n",
        "        self.value_network.eval()\n",
        "        boards = []\n",
        "        packing_order = []\n",
        "        state, reward, done = env.state(gamma=self.gamma)\n",
        "\n",
        "        while not done:\n",
        "          # append current board\n",
        "          boards = boards + [deepcopy(env.board)]\n",
        "          # find next action\n",
        "          [action, _, _, _, _, _] = self.policy(env)\n",
        "          if action is None: # agent is stuck and can't move\n",
        "            done = 1\n",
        "            continue\n",
        "          else:\n",
        "            if np.random.rand() < self.eps:\n",
        "              action = random.choice(env.legal_moves())\n",
        "              assert (action != None)\n",
        "            state, reward, done = env.play(action, gamma=self.gamma)\n",
        "            print(state)\n",
        "        self.value_network.train()\n",
        "        return boards, packing_order\n",
        "\n",
        "    def print_trajectory(boards):\n",
        "      util = game.Game(disable_prints=False)\n",
        "      for board in boards:\n",
        "        util.print_board(board)\n",
        "\n",
        "    def policy(self, env):\n",
        "        legal_moves = env.legal_moves()\n",
        "        if len(legal_moves) == 0: # Agent is stuck angamma=Nond can't move\n",
        "            return [None, None, None, None, None, None]\n",
        "\n",
        "        value_moves = []\n",
        "        for char in legal_moves:\n",
        "            state, reward, done = env.step(char, gamma=self.gamma)\n",
        "            state_tensor = torch.tensor(state)\n",
        "            value_moves.append([char, state, state_tensor, self.value_network(state_tensor), reward, done])\n",
        "        return max(value_moves, key=lambda x:x[3])\n",
        "\n",
        "    def random_policy(self, env):\n",
        "      legal_moves = env.legal_moves()\n",
        "      if len(legal_moves)==0:\n",
        "        return None\n",
        "      else:\n",
        "        return random.choice(legal_moves)\n",
        "\n",
        "    def random_baseline(self, number_of_episodes, start, end, plot=True):\n",
        "      wins=[0 for i in range(number_of_episodes)]\n",
        "      moves=[]\n",
        "      for episode in tqdm(range(number_of_episodes)):\n",
        "          # create new game instance\n",
        "          ind = random.randint(start, end)\n",
        "          env = game.ReverseGame(game.Game(level_id=ind), disable_prints=True)\n",
        "          if episode % 100 == 0:\n",
        "              moves.append(env.player_position)\n",
        "          state, reward, done = env.state(gamma=self.gamma)\n",
        "          while not done:\n",
        "            action = self.random_policy(env)\n",
        "            if episode % 100 == 0:\n",
        "              moves.append(action)\n",
        "            if action != None:\n",
        "              state, reward, done = env.play(action, gamma=self.gamma)\n",
        "              wins[episode] = wins[episode] + reward\n",
        "            else:\n",
        "              done = 1\n",
        "      if plot:\n",
        "        plt.plot([sum(wins[:i])/number_of_episodes for i in range(number_of_episodes)], label=\"random policy\")\n",
        "        plt.legend()\n",
        "      print(f\"in [{start}, {end}] random policy solved: {sum(wins)/number_of_episodes}, {sum(wins)}/{number_of_episodes}\")\n",
        "\n",
        "    def eval(self, number_of_tries_per_level, start, end):\n",
        "      for id in range(start, end+1):\n",
        "        for t in range(number_of_tries_per_level):\n",
        "          pass\n",
        "\n",
        "\n",
        "    def train(self, number_of_episodes, start, end, plot=True):\n",
        "        wins=[0 for i in range(number_of_episodes)]\n",
        "        moves = []\n",
        "        for episode in tqdm(range(number_of_episodes)):\n",
        "            # create new game instance\n",
        "            ind = random.randint(start, end)\n",
        "            env = game.ReverseGame(game.Game(level_id=ind), disable_prints=True)\n",
        "            if episode % 100 == 0:\n",
        "                moves.append(env.player_position)\n",
        "            state, reward, done = env.state(gamma=self.gamma)\n",
        "\n",
        "            # do training on game instance\n",
        "            while not done:\n",
        "                # compute value of current state\n",
        "                state_tensor = torch.tensor(state)\n",
        "                value = self.value_network(state_tensor)\n",
        "\n",
        "                # calculate next action according to policy\n",
        "                [action, next_state, next_state_tensor, next_value, next_reward, next_done] = self.policy(env)\n",
        "                if episode % 100 == 0:\n",
        "                    moves.append(action)\n",
        "                # print(f\"reward from step: {next_reward}\")\n",
        "\n",
        "                if action is None: # agent is stuck, we are in the same state as before and use these to make the TD(0) updates\n",
        "                    assert(next_value is None and next_done is None and next_reward is None and next_state_tensor is None and next_state is None)\n",
        "                    next_value = value\n",
        "                    next_state_tensor = state\n",
        "                    next_done = 1\n",
        "                    next_reward = reward\n",
        "\n",
        "\n",
        "                # TD(0) update: V(s)←V(s)+α(R+γV(s')−V(s))\n",
        "                target = value + self.alpha*(next_reward + self.gamma*next_value.detach()*(1-int(next_done)) - value) # using detach here to exclude prediction from computation graph as is standard in TD(0)\n",
        "\n",
        "                # calculate loss\n",
        "                loss = self.loss(value, target.detach())\n",
        "\n",
        "                # optimize\n",
        "                self.optimizer.zero_grad()\n",
        "                loss.backward()\n",
        "                self.optimizer.step()\n",
        "\n",
        "                # make random move in environment\n",
        "                if np.random.rand() < self.eps:\n",
        "                    legal_moves = env.legal_moves()\n",
        "                    if len(legal_moves) == 0:\n",
        "                        break\n",
        "                    else:\n",
        "                        action = random.choice(legal_moves)\n",
        "                        if episode % 100 == 0:\n",
        "                            moves[-1] = action\n",
        "                        state, reward, done = env.play(action, gamma=self.gamma)\n",
        "                else:\n",
        "                    state = next_state\n",
        "                    done = next_done\n",
        "                    reward = next_reward\n",
        "                    if(action != None): # make the game step if there is a possible move, if there is no possible move, game will end\n",
        "                        s, r, d = env.play(action, gamma=self.gamma)\n",
        "                        if not (state == s and done == d and reward == r):\n",
        "                            env.disable_prints=False\n",
        "                            env.print_board()\n",
        "                            print(env.turn)\n",
        "                            print(f\"print form top: {state}, {reward}, {done}\")\n",
        "                            print(f\"print form bot: {s}, {r}, {d}\")\n",
        "                        assert(state == s and done == d and reward == r)\n",
        "                wins[episode] = wins[episode] + reward\n",
        "\n",
        "            # update learning rate\n",
        "            # self.alpha = self.alpha * self.discount\n",
        "        if plot:\n",
        "          plt.plot([sum(wins[:i])/number_of_episodes for i in range(number_of_episodes)], label=\"greedy policy\")\n",
        "          plt.legend()\n",
        "        print(f\"in[{start}, {end}] greedy policy solved: {sum(wins)/number_of_episodes}, {sum(wins)}/{number_of_episodes}\")\n",
        "        file_path = \"run.json\"\n",
        "        json_data = json.dumps(moves)\n",
        "        with open(file_path, \"w\") as file:\n",
        "            file.write(json_data)"
      ]
    },
    {
      "cell_type": "code",
      "execution_count": 48,
      "metadata": {
        "colab": {
          "base_uri": "https://localhost:8080/",
          "height": 499
        },
        "id": "veETRjUlyqOE",
        "outputId": "c569b3c7-2511-4254-fd8f-565801d19c30"
      },
      "outputs": [
        {
          "output_type": "stream",
          "name": "stderr",
          "text": [
            "100%|██████████| 1000/1000 [00:16<00:00, 59.41it/s]\n"
          ]
        },
        {
          "output_type": "stream",
          "name": "stdout",
          "text": [
            "in [0, 0] random policy solved: 0.422, 422/1000\n"
          ]
        },
        {
          "output_type": "stream",
          "name": "stderr",
          "text": [
            "100%|██████████| 1000/1000 [00:41<00:00, 24.20it/s]\n"
          ]
        },
        {
          "output_type": "stream",
          "name": "stdout",
          "text": [
            "in[0, 0] greedy policy solved: 1.0, 1000/1000\n"
          ]
        },
        {
          "output_type": "display_data",
          "data": {
            "text/plain": [
              "<Figure size 640x480 with 1 Axes>"
            ],
            "image/png": "[encoded data removed]"
          },
          "metadata": {}
        }
      ],
      "source": [
        "torch.manual_seed(40)\n",
        "random.seed(40)\n",
        "np.random.seed(40)\n",
        "backwardagent = BackwardAgent()\n",
        "backwardagent.random_baseline(number_of_episodes=1000, start=0, end=0)\n",
        "backwardagent.train(number_of_episodes=1000, start=0, end=0)"
      ]
    },
    {
      "cell_type": "code",
      "source": [
        "for i in range(10):\n",
        "  print(f\"{i}:\")\n",
        "  backwardagent = BackwardAgent()\n",
        "  backwardagent.train(number_of_episodes=250, start=1, end=1, plot=False)\n",
        "  backwardagent.random_baseline(number_of_episodes=100, start=1, end=1, plot=False)"
      ],
      "metadata": {
        "colab": {
          "base_uri": "https://localhost:8080/"
        },
        "id": "yFeVmfDYzDAX",
        "outputId": "3daac90b-79c6-4968-f7d2-a165a64e419a"
      },
      "execution_count": 52,
      "outputs": [
        {
          "output_type": "stream",
          "name": "stdout",
          "text": [
            "0:\n"
          ]
        },
        {
          "output_type": "stream",
          "name": "stderr",
          "text": [
            "100%|██████████| 250/250 [00:13<00:00, 18.43it/s]\n"
          ]
        },
        {
          "output_type": "stream",
          "name": "stdout",
          "text": [
            "in[1, 1] greedy policy solved: 0.936, 234/250\n"
          ]
        },
        {
          "output_type": "stream",
          "name": "stderr",
          "text": [
            "100%|██████████| 100/100 [00:01<00:00, 57.86it/s]\n"
          ]
        },
        {
          "output_type": "stream",
          "name": "stdout",
          "text": [
            "in [1, 1] random policy solved: 0.6, 60/100\n",
            "1:\n"
          ]
        },
        {
          "output_type": "stream",
          "name": "stderr",
          "text": [
            "100%|██████████| 250/250 [00:32<00:00,  7.69it/s]\n"
          ]
        },
        {
          "output_type": "stream",
          "name": "stdout",
          "text": [
            "in[1, 1] greedy policy solved: 0.84, 210/250\n"
          ]
        },
        {
          "output_type": "stream",
          "name": "stderr",
          "text": [
            "100%|██████████| 100/100 [00:00<00:00, 102.10it/s]\n"
          ]
        },
        {
          "output_type": "stream",
          "name": "stdout",
          "text": [
            "in [1, 1] random policy solved: 0.58, 58/100\n",
            "2:\n"
          ]
        },
        {
          "output_type": "stream",
          "name": "stderr",
          "text": [
            "100%|██████████| 250/250 [00:10<00:00, 23.66it/s]\n"
          ]
        },
        {
          "output_type": "stream",
          "name": "stdout",
          "text": [
            "in[1, 1] greedy policy solved: 0.992, 248/250\n"
          ]
        },
        {
          "output_type": "stream",
          "name": "stderr",
          "text": [
            "100%|██████████| 100/100 [00:01<00:00, 56.85it/s]\n"
          ]
        },
        {
          "output_type": "stream",
          "name": "stdout",
          "text": [
            "in [1, 1] random policy solved: 0.48, 48/100\n",
            "3:\n"
          ]
        },
        {
          "output_type": "stream",
          "name": "stderr",
          "text": [
            "100%|██████████| 250/250 [00:14<00:00, 17.64it/s]\n"
          ]
        },
        {
          "output_type": "stream",
          "name": "stdout",
          "text": [
            "in[1, 1] greedy policy solved: 0.912, 228/250\n"
          ]
        },
        {
          "output_type": "stream",
          "name": "stderr",
          "text": [
            "100%|██████████| 100/100 [00:01<00:00, 72.59it/s]\n"
          ]
        },
        {
          "output_type": "stream",
          "name": "stdout",
          "text": [
            "in [1, 1] random policy solved: 0.58, 58/100\n",
            "4:\n"
          ]
        },
        {
          "output_type": "stream",
          "name": "stderr",
          "text": [
            "100%|██████████| 250/250 [00:34<00:00,  7.34it/s]\n"
          ]
        },
        {
          "output_type": "stream",
          "name": "stdout",
          "text": [
            "in[1, 1] greedy policy solved: 0.728, 182/250\n"
          ]
        },
        {
          "output_type": "stream",
          "name": "stderr",
          "text": [
            "100%|██████████| 100/100 [00:01<00:00, 95.23it/s]\n"
          ]
        },
        {
          "output_type": "stream",
          "name": "stdout",
          "text": [
            "in [1, 1] random policy solved: 0.47, 47/100\n",
            "5:\n"
          ]
        },
        {
          "output_type": "stream",
          "name": "stderr",
          "text": [
            "100%|██████████| 250/250 [00:11<00:00, 22.24it/s]\n"
          ]
        },
        {
          "output_type": "stream",
          "name": "stdout",
          "text": [
            "in[1, 1] greedy policy solved: 0.964, 241/250\n"
          ]
        },
        {
          "output_type": "stream",
          "name": "stderr",
          "text": [
            "100%|██████████| 100/100 [00:01<00:00, 91.95it/s]\n"
          ]
        },
        {
          "output_type": "stream",
          "name": "stdout",
          "text": [
            "in [1, 1] random policy solved: 0.55, 55/100\n",
            "6:\n"
          ]
        },
        {
          "output_type": "stream",
          "name": "stderr",
          "text": [
            "100%|██████████| 250/250 [00:11<00:00, 20.91it/s]\n"
          ]
        },
        {
          "output_type": "stream",
          "name": "stdout",
          "text": [
            "in[1, 1] greedy policy solved: 0.968, 242/250\n"
          ]
        },
        {
          "output_type": "stream",
          "name": "stderr",
          "text": [
            "100%|██████████| 100/100 [00:00<00:00, 101.48it/s]\n"
          ]
        },
        {
          "output_type": "stream",
          "name": "stdout",
          "text": [
            "in [1, 1] random policy solved: 0.57, 57/100\n",
            "7:\n"
          ]
        },
        {
          "output_type": "stream",
          "name": "stderr",
          "text": [
            "100%|██████████| 250/250 [00:14<00:00, 16.92it/s]\n"
          ]
        },
        {
          "output_type": "stream",
          "name": "stdout",
          "text": [
            "in[1, 1] greedy policy solved: 0.928, 232/250\n"
          ]
        },
        {
          "output_type": "stream",
          "name": "stderr",
          "text": [
            "100%|██████████| 100/100 [00:01<00:00, 57.87it/s]\n"
          ]
        },
        {
          "output_type": "stream",
          "name": "stdout",
          "text": [
            "in [1, 1] random policy solved: 0.59, 59/100\n",
            "8:\n"
          ]
        },
        {
          "output_type": "stream",
          "name": "stderr",
          "text": [
            "100%|██████████| 250/250 [00:15<00:00, 15.70it/s]\n"
          ]
        },
        {
          "output_type": "stream",
          "name": "stdout",
          "text": [
            "in[1, 1] greedy policy solved: 0.856, 214/250\n"
          ]
        },
        {
          "output_type": "stream",
          "name": "stderr",
          "text": [
            "100%|██████████| 100/100 [00:01<00:00, 92.27it/s]\n"
          ]
        },
        {
          "output_type": "stream",
          "name": "stdout",
          "text": [
            "in [1, 1] random policy solved: 0.43, 43/100\n",
            "9:\n"
          ]
        },
        {
          "output_type": "stream",
          "name": "stderr",
          "text": [
            "100%|██████████| 250/250 [00:11<00:00, 21.80it/s]\n"
          ]
        },
        {
          "output_type": "stream",
          "name": "stdout",
          "text": [
            "in[1, 1] greedy policy solved: 0.96, 240/250\n"
          ]
        },
        {
          "output_type": "stream",
          "name": "stderr",
          "text": [
            "100%|██████████| 100/100 [00:01<00:00, 98.04it/s]"
          ]
        },
        {
          "output_type": "stream",
          "name": "stdout",
          "text": [
            "in [1, 1] random policy solved: 0.45, 45/100\n"
          ]
        },
        {
          "output_type": "stream",
          "name": "stderr",
          "text": [
            "\n"
          ]
        }
      ]
    },
    {
      "cell_type": "code",
      "source": [
        "torch.manual_seed(40)\n",
        "random.seed(40)\n",
        "np.random.seed(40)\n",
        "backwardagent = BackwardAgent()\n",
        "backwardagent.train(number_of_episodes=100, start=1, end=1)\n",
        "env = game.ReverseGame(game.Game(level_id=1), disable_prints=True)\n",
        "boards, packing_order = backwardagent.backward_trajectory(env)\n",
        "BackwardAgent.print_trajectory(boards)"
      ],
      "metadata": {
        "colab": {
          "base_uri": "https://localhost:8080/",
          "height": 1000
        },
        "id": "Yzvz9E86oCmh",
        "outputId": "180ca76b-b2be-4383-ca31-b4e72f61eb0c"
      },
      "execution_count": 49,
      "outputs": [
        {
          "output_type": "stream",
          "name": "stderr",
          "text": [
            "100%|██████████| 100/100 [00:06<00:00, 15.98it/s]\n"
          ]
        },
        {
          "output_type": "stream",
          "name": "stdout",
          "text": [
            "in[1, 1] greedy policy solved: 0.91, 91/100\n",
            "[1.0, 0, 0.81, 1.0, 1]\n",
            "[1.0, 0, 0.81, 1.0, 1]\n",
            "[0.5, 0, 0.81, 0.9, 2]\n",
            "[0.5, 1, 0.81, 0.9, 2]\n",
            "[0.5, 0, 0.81, 0.9, 2]\n",
            "[0.0, 0, 0.81, 0.81, 2]\n",
            "####::\n",
            "#@*#::\n",
            "#  ###\n",
            "#*   #\n",
            "#    #\n",
            "#  ###\n",
            "####::\n",
            "####::\n",
            "# *#::\n",
            "#@ ###\n",
            "#*   #\n",
            "#    #\n",
            "#  ###\n",
            "####::\n",
            "####::\n",
            "# *#::\n",
            "# @###\n",
            "#*   #\n",
            "#    #\n",
            "#  ###\n",
            "####::\n",
            "####::\n",
            "# .#::\n",
            "# $###\n",
            "#*@  #\n",
            "#    #\n",
            "#  ###\n",
            "####::\n",
            "####::\n",
            "# .#::\n",
            "#  ###\n",
            "#*$  #\n",
            "# @  #\n",
            "#  ###\n",
            "####::\n",
            "####::\n",
            "# .#::\n",
            "#  ###\n",
            "#*$  #\n",
            "#@   #\n",
            "#  ###\n",
            "####::\n"
          ]
        },
        {
          "output_type": "display_data",
          "data": {
            "text/plain": [
              "<Figure size 640x480 with 1 Axes>"
            ],
            "image/png": "[encoded data removed]"
          },
          "metadata": {}
        }
      ]
    }
  ],
  "metadata": {
    "kernelspec": {
      "display_name": "WarehouseKeeper",
      "language": "python",
      "name": "python3"
    },
    "language_info": {
      "codemirror_mode": {
        "name": "ipython",
        "version": 3
      },
      "file_extension": ".py",
      "mimetype": "text/x-python",
      "name": "python",
      "nbconvert_exporter": "python",
      "pygments_lexer": "ipython3",
      "version": "3.11.8"
    },
    "colab": {
      "provenance": []
    }
  },
  "nbformat": 4,
  "nbformat_minor": 0
}