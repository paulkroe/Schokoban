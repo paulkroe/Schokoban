{
  "cells": [
    {
      "cell_type": "code",
      "source": [
        "!mkdir levels"
      ],
      "metadata": {
        "id": "YRHGjuB9yrrR"
      },
      "execution_count": 1,
      "outputs": []
    },
    {
      "cell_type": "code",
      "execution_count": 45,
      "metadata": {
        "id": "UAcc7ThryqOA"
      },
      "outputs": [],
      "source": [
        "import numpy as np\n",
        "import json\n",
        "import torch\n",
        "import torch.nn as nn\n",
        "import torch.optim as optim\n",
        "import torch.nn.functional as F\n",
        "from tqdm import tqdm\n",
        "import random\n",
        "import importlib\n",
        "import game\n",
        "import matplotlib.pyplot as plt\n",
        "importlib.reload(game)\n",
        "from copy import deepcopy"
      ]
    },
    {
      "cell_type": "code",
      "execution_count": 79,
      "metadata": {
        "id": "gM0E2ZlYyqOC"
      },
      "outputs": [],
      "source": [
        "class BackwardValueNetwork(nn.Module):\n",
        "    def __init__(self, input_size=5, output_size=1):\n",
        "        super(BackwardValueNetwork, self).__init__()\n",
        "        self.linear1 = nn.Linear(input_size, 512)\n",
        "        self.linear2 = nn.Linear(512, 512)\n",
        "        self.linear3 = nn.Linear(512, 512)\n",
        "        self.linear4 = nn.Linear(512, output_size)\n",
        "\n",
        "    def forward(self, state):\n",
        "        state = self.linear1(state)\n",
        "        state = self.linear2(state)\n",
        "        state = self.linear3(state)\n",
        "        state = self.linear4(state)\n",
        "        return state\n"
      ]
    },
    {
      "cell_type": "code",
      "execution_count": 86,
      "metadata": {
        "id": "_r4Of5rDyqOD"
      },
      "outputs": [],
      "source": [
        "class BackwardAgent():\n",
        "    def __init__(self):\n",
        "        self.value_network = BackwardValueNetwork()\n",
        "        self.optimizer = optim.SGD(self.value_network.parameters(), lr=0.01)\n",
        "        self.loss = nn.MSELoss()\n",
        "        self.gamma = 0.9\n",
        "        self.alpha = 0.1\n",
        "        self.discount = 0.98\n",
        "        self.eps = 0.1\n",
        "\n",
        "    # POST: Returns backward trajectory as specified by the paper\n",
        "    # More precisely returns a list of all board positions visited by the backward agent\n",
        "    # and the packing order as impled by the backward trajectory\n",
        "    # TODO: how should the packing order be calulated? For now the packing order is the order in which the boxes leave the goal they start on.\n",
        "    def backward_trajectory(self, env):\n",
        "        self.value_network.eval()\n",
        "        boards = []\n",
        "        packing_order = []\n",
        "        state, reward, done = env.state(gamma=self.gamma)\n",
        "        boards = boards + [deepcopy(env.board)]\n",
        "        while not done:\n",
        "          # append current board\n",
        "          # find next action\n",
        "          [action, _, _, _, _, _] = self.policy(env)\n",
        "          if action is None: # agent is stuck and can't move\n",
        "            done = 1\n",
        "            continue\n",
        "          else:\n",
        "            if np.random.rand() < self.eps:\n",
        "              action = random.choice(env.legal_moves())\n",
        "              assert (action != None)\n",
        "            state, reward, done = env.play(action, gamma=self.gamma)\n",
        "            # print(env.legal_moves())\n",
        "            # print(state)\n",
        "            boards = boards + [deepcopy(env.board)]\n",
        "\n",
        "            for i in range(len(env.box_positions)):\n",
        "              if env.box_positions[i][0] != env.goal_positions[i][0] or env.box_positions[i][1] != env.goal_positions[i][1]:\n",
        "                if not i in packing_order:\n",
        "                  packing_order.append(i)\n",
        "\n",
        "        self.value_network.train()\n",
        "        return boards, packing_order\n",
        "\n",
        "    def print_trajectory(boards):\n",
        "      util = game.Game(disable_prints=False)\n",
        "      for board in boards:\n",
        "        util.print_board(board)\n",
        "\n",
        "    def policy(self, env):\n",
        "        legal_moves = env.legal_moves()\n",
        "        if len(legal_moves) == 0: # Agent is stuck angamma=Nond can't move\n",
        "            return [None, None, None, None, None, None]\n",
        "\n",
        "        value_moves = []\n",
        "        for char in legal_moves:\n",
        "            state, reward, done = env.step(char, gamma=self.gamma)\n",
        "            state_tensor = torch.tensor(state)\n",
        "            value_moves.append([char, state, state_tensor, self.value_network(state_tensor), reward, done])\n",
        "        return max(value_moves, key=lambda x:x[3])\n",
        "\n",
        "    def random_policy(self, env):\n",
        "      legal_moves = env.legal_moves()\n",
        "      if len(legal_moves)==0:\n",
        "        return None\n",
        "      else:\n",
        "        return random.choice(legal_moves)\n",
        "\n",
        "    def random_baseline(self, number_of_episodes, start, end, plot=True):\n",
        "      wins=[0 for i in range(number_of_episodes)]\n",
        "      moves=[]\n",
        "      for episode in tqdm(range(number_of_episodes)):\n",
        "          # create new game instance\n",
        "          ind = random.randint(start, end)\n",
        "          env = game.ReverseGame(game.Game(level_id=ind), disable_prints=True)\n",
        "          if episode % 100 == 0:\n",
        "              moves.append(env.player_position)\n",
        "          state, reward, done = env.state(gamma=self.gamma)\n",
        "          while not done:\n",
        "            action = self.random_policy(env)\n",
        "            if episode % 100 == 0:\n",
        "              moves.append(action)\n",
        "            if action != None:\n",
        "              state, reward, done = env.play(action, gamma=self.gamma)\n",
        "              wins[episode] = wins[episode] + reward\n",
        "            else:\n",
        "              done = 1\n",
        "      if plot:\n",
        "        plt.plot([sum(wins[:i])/number_of_episodes for i in range(number_of_episodes)], label=\"random policy\")\n",
        "        plt.legend()\n",
        "      print(f\"in [{start}, {end}] random policy solved: {sum(wins)/number_of_episodes}, {sum(wins)}/{number_of_episodes}\")\n",
        "\n",
        "    def eval(self, number_of_tries_per_level, start, end):\n",
        "      for id in range(start, end+1):\n",
        "        for t in range(number_of_tries_per_level):\n",
        "          pass\n",
        "    # The paper originally followed an off policy learning apporach, always updating on the move with the highest reward and sometimes choosing a random action after the TD(0) update\n",
        "    # This potentially causes learning inefficiencies when random actions end the episode and receive rewards.\n",
        "    # For this reason we stick to on policy learning for now\n",
        "\n",
        "    def train(self, number_of_episodes, start, end, plot=True):\n",
        "        wins=[0 for i in range(number_of_episodes)]\n",
        "        moves = []\n",
        "        for episode in tqdm(range(number_of_episodes)):\n",
        "            # create new game instance\n",
        "            ind = random.randint(start, end)\n",
        "            env = game.ReverseGame(game.Game(level_id=ind), disable_prints=True)\n",
        "            if episode % 100 == 0:\n",
        "                moves.append(env.player_position)\n",
        "            state, reward, done = env.state(gamma=self.gamma)\n",
        "\n",
        "            # do training on game instance\n",
        "            while not done:\n",
        "                # compute value of current state\n",
        "                state_tensor = torch.tensor(state)\n",
        "                value = self.value_network(state_tensor)\n",
        "\n",
        "                action, next_state, next_state_tensor, next_value, next_reward, next_done = None, None, None, None, None, None\n",
        "\n",
        "                # choose random action:\n",
        "                if np.random.rand() < self.eps:\n",
        "                  legal_moves = env.legal_moves()\n",
        "                  if len(legal_moves) == 0:\n",
        "                    next_value = value\n",
        "                    next_reward = reward\n",
        "                    next_done = 1\n",
        "                  else:\n",
        "                    action = random.choice(legal_moves)\n",
        "                    next_state, next_reward, next_done = env.step(action, gamma=self.gamma)\n",
        "                    next_state_tensor = torch.tensor(next_state)\n",
        "                    next_value = self.value_network(next_state_tensor)\n",
        "                else: # choose greedy action\n",
        "                  # calculate next action according to policy\n",
        "                  [action, next_state, next_state_tensor, next_value, next_reward, next_done] = self.policy(env)\n",
        "                  # print(f\"reward from step: {next_reward}\")\n",
        "                  if action is None: # agent is stuck, we are in the same state as before and use these to make the TD(0) updates\n",
        "                      assert(next_value is None and next_done is None and next_reward is None and next_state_tensor is None and next_state is None)\n",
        "                      next_value = value\n",
        "                      next_state_tensor = state\n",
        "                      next_done = 1\n",
        "                      next_reward = reward\n",
        "\n",
        "                # add moves for later visualization\n",
        "                if episode % 100 == 0:\n",
        "                    moves.append(action)\n",
        "\n",
        "\n",
        "                # TD(0) update: V(s)←V(s)+α(R+γV(s')−V(s))\n",
        "                target = value + self.alpha*(next_reward + self.gamma*next_value.detach()*(1-int(next_done)) - value) # using detach here to exclude prediction from computation graph as is standard in TD(0)\n",
        "\n",
        "                # calculate loss\n",
        "                loss = self.loss(value, target.detach())\n",
        "\n",
        "                # optimize\n",
        "                self.optimizer.zero_grad()\n",
        "                loss.backward()\n",
        "                self.optimizer.step()\n",
        "\n",
        "                state = next_state\n",
        "                done = next_done\n",
        "                reward = next_reward\n",
        "                if(action != None): # make the game step if there is a possible move, if there is no possible move, game will end\n",
        "                  state, reward, done = env.play(action, gamma=self.gamma)\n",
        "                wins[episode] = wins[episode] + reward\n",
        "\n",
        "            # update learning rate\n",
        "            # self.alpha = self.alpha * self.discount\n",
        "\n",
        "        if plot:\n",
        "          plt.plot([sum(wins[:i])/number_of_episodes for i in range(number_of_episodes)], label=\"greedy policy\")\n",
        "          plt.legend()\n",
        "        print(f\"in [{start}, {end}] greedy policy solved: {sum(wins)/number_of_episodes}, {sum(wins)}/{number_of_episodes}\")\n",
        "        file_path = \"run.json\"\n",
        "        json_data = json.dumps(moves)\n",
        "        with open(file_path, \"w\") as file:\n",
        "            file.write(json_data)"
      ]
    },
    {
      "cell_type": "code",
      "execution_count": 88,
      "metadata": {
        "colab": {
          "base_uri": "https://localhost:8080/",
          "height": 499
        },
        "id": "veETRjUlyqOE",
        "outputId": "7a33c658-be35-43bb-9f4b-600229427d91"
      },
      "outputs": [
        {
          "output_type": "stream",
          "name": "stderr",
          "text": [
            "100%|██████████| 1000/1000 [00:18<00:00, 55.18it/s]\n"
          ]
        },
        {
          "output_type": "stream",
          "name": "stdout",
          "text": [
            "in [0, 0] random policy solved: 0.422, 422/1000\n"
          ]
        },
        {
          "output_type": "stream",
          "name": "stderr",
          "text": [
            "100%|██████████| 1000/1000 [00:42<00:00, 23.41it/s]\n"
          ]
        },
        {
          "output_type": "stream",
          "name": "stdout",
          "text": [
            "in [0, 0] greedy policy solved: 1.0, 1000/1000\n"
          ]
        },
        {
          "output_type": "display_data",
          "data": {
            "text/plain": [
              "<Figure size 640x480 with 1 Axes>"
            ],
            "image/png": "[encoded data removed]"
          },
          "metadata": {}
        }
      ],
      "source": [
        "torch.manual_seed(40)\n",
        "random.seed(40)\n",
        "np.random.seed(40)\n",
        "backwardagent = BackwardAgent()\n",
        "backwardagent.random_baseline(number_of_episodes=1000, start=0, end=0)\n",
        "backwardagent.train(number_of_episodes=1000, start=0, end=0)"
      ]
    },
    {
      "cell_type": "code",
      "source": [
        "for i in range(10):\n",
        "  print(f\"{i}:\")\n",
        "  backwardagent = BackwardAgent()\n",
        "  backwardagent.train(number_of_episodes=250, start=1, end=1, plot=False)\n",
        "  backwardagent.random_baseline(number_of_episodes=100, start=1, end=1, plot=False)"
      ],
      "metadata": {
        "colab": {
          "base_uri": "https://localhost:8080/"
        },
        "id": "yFeVmfDYzDAX",
        "outputId": "ad8b4815-9737-4376-eff8-163eff3976fd"
      },
      "execution_count": 89,
      "outputs": [
        {
          "output_type": "stream",
          "name": "stdout",
          "text": [
            "0:\n"
          ]
        },
        {
          "output_type": "stream",
          "name": "stderr",
          "text": [
            "100%|██████████| 250/250 [00:11<00:00, 21.99it/s]\n"
          ]
        },
        {
          "output_type": "stream",
          "name": "stdout",
          "text": [
            "in [1, 1] greedy policy solved: 0.956, 239/250\n"
          ]
        },
        {
          "output_type": "stream",
          "name": "stderr",
          "text": [
            "100%|██████████| 100/100 [00:01<00:00, 96.80it/s]\n"
          ]
        },
        {
          "output_type": "stream",
          "name": "stdout",
          "text": [
            "in [1, 1] random policy solved: 0.46, 46/100\n",
            "1:\n"
          ]
        },
        {
          "output_type": "stream",
          "name": "stderr",
          "text": [
            "100%|██████████| 250/250 [00:11<00:00, 22.41it/s]\n"
          ]
        },
        {
          "output_type": "stream",
          "name": "stdout",
          "text": [
            "in [1, 1] greedy policy solved: 0.988, 247/250\n"
          ]
        },
        {
          "output_type": "stream",
          "name": "stderr",
          "text": [
            "100%|██████████| 100/100 [00:01<00:00, 87.64it/s]\n"
          ]
        },
        {
          "output_type": "stream",
          "name": "stdout",
          "text": [
            "in [1, 1] random policy solved: 0.36, 36/100\n",
            "2:\n"
          ]
        },
        {
          "output_type": "stream",
          "name": "stderr",
          "text": [
            "100%|██████████| 250/250 [00:12<00:00, 20.61it/s]\n"
          ]
        },
        {
          "output_type": "stream",
          "name": "stdout",
          "text": [
            "in [1, 1] greedy policy solved: 0.956, 239/250\n"
          ]
        },
        {
          "output_type": "stream",
          "name": "stderr",
          "text": [
            "100%|██████████| 100/100 [00:01<00:00, 92.06it/s]\n"
          ]
        },
        {
          "output_type": "stream",
          "name": "stdout",
          "text": [
            "in [1, 1] random policy solved: 0.49, 49/100\n",
            "3:\n"
          ]
        },
        {
          "output_type": "stream",
          "name": "stderr",
          "text": [
            "100%|██████████| 250/250 [00:15<00:00, 16.28it/s]\n"
          ]
        },
        {
          "output_type": "stream",
          "name": "stdout",
          "text": [
            "in [1, 1] greedy policy solved: 0.928, 232/250\n"
          ]
        },
        {
          "output_type": "stream",
          "name": "stderr",
          "text": [
            "100%|██████████| 100/100 [00:01<00:00, 89.07it/s]\n"
          ]
        },
        {
          "output_type": "stream",
          "name": "stdout",
          "text": [
            "in [1, 1] random policy solved: 0.51, 51/100\n",
            "4:\n"
          ]
        },
        {
          "output_type": "stream",
          "name": "stderr",
          "text": [
            "100%|██████████| 250/250 [00:11<00:00, 22.10it/s]\n"
          ]
        },
        {
          "output_type": "stream",
          "name": "stdout",
          "text": [
            "in [1, 1] greedy policy solved: 0.972, 243/250\n"
          ]
        },
        {
          "output_type": "stream",
          "name": "stderr",
          "text": [
            "100%|██████████| 100/100 [00:01<00:00, 89.46it/s]\n"
          ]
        },
        {
          "output_type": "stream",
          "name": "stdout",
          "text": [
            "in [1, 1] random policy solved: 0.49, 49/100\n",
            "5:\n"
          ]
        },
        {
          "output_type": "stream",
          "name": "stderr",
          "text": [
            "100%|██████████| 250/250 [00:12<00:00, 19.79it/s]\n"
          ]
        },
        {
          "output_type": "stream",
          "name": "stdout",
          "text": [
            "in [1, 1] greedy policy solved: 0.936, 234/250\n"
          ]
        },
        {
          "output_type": "stream",
          "name": "stderr",
          "text": [
            "100%|██████████| 100/100 [00:01<00:00, 71.35it/s]\n"
          ]
        },
        {
          "output_type": "stream",
          "name": "stdout",
          "text": [
            "in [1, 1] random policy solved: 0.51, 51/100\n",
            "6:\n"
          ]
        },
        {
          "output_type": "stream",
          "name": "stderr",
          "text": [
            "100%|██████████| 250/250 [00:16<00:00, 15.14it/s]\n"
          ]
        },
        {
          "output_type": "stream",
          "name": "stdout",
          "text": [
            "in [1, 1] greedy policy solved: 0.932, 233/250\n"
          ]
        },
        {
          "output_type": "stream",
          "name": "stderr",
          "text": [
            "100%|██████████| 100/100 [00:01<00:00, 92.39it/s]\n"
          ]
        },
        {
          "output_type": "stream",
          "name": "stdout",
          "text": [
            "in [1, 1] random policy solved: 0.42, 42/100\n",
            "7:\n"
          ]
        },
        {
          "output_type": "stream",
          "name": "stderr",
          "text": [
            "100%|██████████| 250/250 [00:10<00:00, 22.83it/s]\n"
          ]
        },
        {
          "output_type": "stream",
          "name": "stdout",
          "text": [
            "in [1, 1] greedy policy solved: 0.972, 243/250\n"
          ]
        },
        {
          "output_type": "stream",
          "name": "stderr",
          "text": [
            "100%|██████████| 100/100 [00:01<00:00, 86.89it/s]\n"
          ]
        },
        {
          "output_type": "stream",
          "name": "stdout",
          "text": [
            "in [1, 1] random policy solved: 0.53, 53/100\n",
            "8:\n"
          ]
        },
        {
          "output_type": "stream",
          "name": "stderr",
          "text": [
            "100%|██████████| 250/250 [00:10<00:00, 23.17it/s]\n"
          ]
        },
        {
          "output_type": "stream",
          "name": "stdout",
          "text": [
            "in [1, 1] greedy policy solved: 0.964, 241/250\n"
          ]
        },
        {
          "output_type": "stream",
          "name": "stderr",
          "text": [
            "100%|██████████| 100/100 [00:01<00:00, 77.29it/s]\n"
          ]
        },
        {
          "output_type": "stream",
          "name": "stdout",
          "text": [
            "in [1, 1] random policy solved: 0.51, 51/100\n",
            "9:\n"
          ]
        },
        {
          "output_type": "stream",
          "name": "stderr",
          "text": [
            "100%|██████████| 250/250 [00:12<00:00, 20.06it/s]\n"
          ]
        },
        {
          "output_type": "stream",
          "name": "stdout",
          "text": [
            "in [1, 1] greedy policy solved: 0.964, 241/250\n"
          ]
        },
        {
          "output_type": "stream",
          "name": "stderr",
          "text": [
            "100%|██████████| 100/100 [00:01<00:00, 82.15it/s]"
          ]
        },
        {
          "output_type": "stream",
          "name": "stdout",
          "text": [
            "in [1, 1] random policy solved: 0.53, 53/100\n"
          ]
        },
        {
          "output_type": "stream",
          "name": "stderr",
          "text": [
            "\n"
          ]
        }
      ]
    },
    {
      "cell_type": "code",
      "source": [
        "# TODO: seems like the agent smetimes is just one move away from winning but instead runs back and forth\n",
        "torch.manual_seed(42)\n",
        "random.seed(42)\n",
        "np.random.seed(42)\n",
        "backwardagent = BackwardAgent()\n",
        "backwardagent.train(number_of_episodes=400, start=1, end=1)\n",
        "plt.show()\n",
        "backwardagent.train(number_of_episodes=400, start=3, end=3)\n",
        "env = game.ReverseGame(game.Game(level_id=3), disable_prints=True)\n",
        "boards, packing_order = backwardagent.backward_trajectory(env)\n",
        "BackwardAgent.print_trajectory(boards)\n",
        "print(f\"packing order: {packing_order}\")"
      ],
      "metadata": {
        "colab": {
          "base_uri": "https://localhost:8080/",
          "height": 1000
        },
        "id": "Yzvz9E86oCmh",
        "outputId": "ec47b950-2383-4940-d719-15b9c8d2e022"
      },
      "execution_count": 90,
      "outputs": [
        {
          "output_type": "stream",
          "name": "stderr",
          "text": [
            "100%|██████████| 400/400 [00:30<00:00, 12.97it/s]\n"
          ]
        },
        {
          "output_type": "stream",
          "name": "stdout",
          "text": [
            "in [1, 1] greedy policy solved: 0.8875, 355/400\n"
          ]
        },
        {
          "output_type": "display_data",
          "data": {
            "text/plain": [
              "<Figure size 640x480 with 1 Axes>"
            ],
            "image/png": "[encoded data removed]"
          },
          "metadata": {}
        },
        {
          "output_type": "stream",
          "name": "stderr",
          "text": [
            "100%|██████████| 400/400 [02:02<00:00,  3.27it/s]\n"
          ]
        },
        {
          "output_type": "stream",
          "name": "stdout",
          "text": [
            "in [3, 3] greedy policy solved: 0.0, 0/400\n",
            "::####:::\n",
            "###  ####\n",
            "#     @ #\n",
            "# #  #  #\n",
            "# * *#  #\n",
            "#########\n",
            "::####:::\n",
            "###  ####\n",
            "#       #\n",
            "# #  #@ #\n",
            "# * *#  #\n",
            "#########\n",
            "::####:::\n",
            "###  ####\n",
            "#       #\n",
            "# #  #  #\n",
            "# * *#@ #\n",
            "#########\n",
            "::####:::\n",
            "###  ####\n",
            "#       #\n",
            "# #  #  #\n",
            "# * *# @#\n",
            "#########\n",
            "::####:::\n",
            "###  ####\n",
            "#       #\n",
            "# #  # @#\n",
            "# * *#  #\n",
            "#########\n",
            "::####:::\n",
            "###  ####\n",
            "#       #\n",
            "# #  #  #\n",
            "# * *# @#\n",
            "#########\n",
            "::####:::\n",
            "###  ####\n",
            "#       #\n",
            "# #  # @#\n",
            "# * *#  #\n",
            "#########\n",
            "::####:::\n",
            "###  ####\n",
            "#       #\n",
            "# #  #  #\n",
            "# * *# @#\n",
            "#########\n",
            "::####:::\n",
            "###  ####\n",
            "#       #\n",
            "# #  # @#\n",
            "# * *#  #\n",
            "#########\n",
            "::####:::\n",
            "###  ####\n",
            "#       #\n",
            "# #  #  #\n",
            "# * *# @#\n",
            "#########\n",
            "::####:::\n",
            "###  ####\n",
            "#       #\n",
            "# #  # @#\n",
            "# * *#  #\n",
            "#########\n",
            "::####:::\n",
            "###  ####\n",
            "#       #\n",
            "# #  #  #\n",
            "# * *# @#\n",
            "#########\n",
            "::####:::\n",
            "###  ####\n",
            "#       #\n",
            "# #  # @#\n",
            "# * *#  #\n",
            "#########\n",
            "::####:::\n",
            "###  ####\n",
            "#       #\n",
            "# #  #  #\n",
            "# * *# @#\n",
            "#########\n",
            "::####:::\n",
            "###  ####\n",
            "#       #\n",
            "# #  # @#\n",
            "# * *#  #\n",
            "#########\n",
            "::####:::\n",
            "###  ####\n",
            "#       #\n",
            "# #  #  #\n",
            "# * *# @#\n",
            "#########\n",
            "::####:::\n",
            "###  ####\n",
            "#       #\n",
            "# #  # @#\n",
            "# * *#  #\n",
            "#########\n",
            "::####:::\n",
            "###  ####\n",
            "#       #\n",
            "# #  #  #\n",
            "# * *# @#\n",
            "#########\n",
            "::####:::\n",
            "###  ####\n",
            "#       #\n",
            "# #  # @#\n",
            "# * *#  #\n",
            "#########\n",
            "::####:::\n",
            "###  ####\n",
            "#       #\n",
            "# #  #  #\n",
            "# * *# @#\n",
            "#########\n",
            "::####:::\n",
            "###  ####\n",
            "#       #\n",
            "# #  # @#\n",
            "# * *#  #\n",
            "#########\n",
            "::####:::\n",
            "###  ####\n",
            "#       #\n",
            "# #  #  #\n",
            "# * *# @#\n",
            "#########\n",
            "::####:::\n",
            "###  ####\n",
            "#       #\n",
            "# #  # @#\n",
            "# * *#  #\n",
            "#########\n",
            "::####:::\n",
            "###  ####\n",
            "#       #\n",
            "# #  #  #\n",
            "# * *# @#\n",
            "#########\n",
            "::####:::\n",
            "###  ####\n",
            "#       #\n",
            "# #  # @#\n",
            "# * *#  #\n",
            "#########\n",
            "::####:::\n",
            "###  ####\n",
            "#       #\n",
            "# #  #  #\n",
            "# * *# @#\n",
            "#########\n",
            "::####:::\n",
            "###  ####\n",
            "#       #\n",
            "# #  # @#\n",
            "# * *#  #\n",
            "#########\n",
            "::####:::\n",
            "###  ####\n",
            "#       #\n",
            "# #  #  #\n",
            "# * *# @#\n",
            "#########\n",
            "::####:::\n",
            "###  ####\n",
            "#       #\n",
            "# #  # @#\n",
            "# * *#  #\n",
            "#########\n",
            "::####:::\n",
            "###  ####\n",
            "#       #\n",
            "# #  #  #\n",
            "# * *# @#\n",
            "#########\n",
            "::####:::\n",
            "###  ####\n",
            "#       #\n",
            "# #  # @#\n",
            "# * *#  #\n",
            "#########\n",
            "::####:::\n",
            "###  ####\n",
            "#       #\n",
            "# #  #  #\n",
            "# * *# @#\n",
            "#########\n",
            "::####:::\n",
            "###  ####\n",
            "#       #\n",
            "# #  # @#\n",
            "# * *#  #\n",
            "#########\n",
            "::####:::\n",
            "###  ####\n",
            "#       #\n",
            "# #  #  #\n",
            "# * *# @#\n",
            "#########\n",
            "::####:::\n",
            "###  ####\n",
            "#       #\n",
            "# #  # @#\n",
            "# * *#  #\n",
            "#########\n",
            "::####:::\n",
            "###  ####\n",
            "#       #\n",
            "# #  #  #\n",
            "# * *# @#\n",
            "#########\n",
            "::####:::\n",
            "###  ####\n",
            "#       #\n",
            "# #  #  #\n",
            "# * *#@ #\n",
            "#########\n",
            "::####:::\n",
            "###  ####\n",
            "#       #\n",
            "# #  #  #\n",
            "# * *# @#\n",
            "#########\n",
            "::####:::\n",
            "###  ####\n",
            "#       #\n",
            "# #  # @#\n",
            "# * *#  #\n",
            "#########\n",
            "::####:::\n",
            "###  ####\n",
            "#       #\n",
            "# #  #  #\n",
            "# * *# @#\n",
            "#########\n",
            "::####:::\n",
            "###  ####\n",
            "#       #\n",
            "# #  # @#\n",
            "# * *#  #\n",
            "#########\n",
            "::####:::\n",
            "###  ####\n",
            "#       #\n",
            "# #  #  #\n",
            "# * *# @#\n",
            "#########\n",
            "::####:::\n",
            "###  ####\n",
            "#       #\n",
            "# #  # @#\n",
            "# * *#  #\n",
            "#########\n",
            "::####:::\n",
            "###  ####\n",
            "#       #\n",
            "# #  #  #\n",
            "# * *# @#\n",
            "#########\n",
            "::####:::\n",
            "###  ####\n",
            "#       #\n",
            "# #  # @#\n",
            "# * *#  #\n",
            "#########\n",
            "::####:::\n",
            "###  ####\n",
            "#       #\n",
            "# #  #  #\n",
            "# * *# @#\n",
            "#########\n",
            "::####:::\n",
            "###  ####\n",
            "#       #\n",
            "# #  # @#\n",
            "# * *#  #\n",
            "#########\n",
            "::####:::\n",
            "###  ####\n",
            "#       #\n",
            "# #  #@ #\n",
            "# * *#  #\n",
            "#########\n",
            "::####:::\n",
            "###  ####\n",
            "#       #\n",
            "# #  #  #\n",
            "# * *#@ #\n",
            "#########\n",
            "::####:::\n",
            "###  ####\n",
            "#       #\n",
            "# #  #  #\n",
            "# * *# @#\n",
            "#########\n",
            "::####:::\n",
            "###  ####\n",
            "#       #\n",
            "# #  # @#\n",
            "# * *#  #\n",
            "#########\n",
            "::####:::\n",
            "###  ####\n",
            "#      @#\n",
            "# #  #  #\n",
            "# * *#  #\n",
            "#########\n",
            "packing order: []\n"
          ]
        },
        {
          "output_type": "display_data",
          "data": {
            "text/plain": [
              "<Figure size 640x480 with 1 Axes>"
            ],
            "image/png": "[encoded data removed]"
          },
          "metadata": {}
        }
      ]
    }
  ],
  "metadata": {
    "kernelspec": {
      "display_name": "WarehouseKeeper",
      "language": "python",
      "name": "python3"
    },
    "language_info": {
      "codemirror_mode": {
        "name": "ipython",
        "version": 3
      },
      "file_extension": ".py",
      "mimetype": "text/x-python",
      "name": "python",
      "nbconvert_exporter": "python",
      "pygments_lexer": "ipython3",
      "version": "3.11.8"
    },
    "colab": {
      "provenance": []
    }
  },
  "nbformat": 4,
  "nbformat_minor": 0
}