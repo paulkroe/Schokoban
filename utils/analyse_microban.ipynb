{
 "cells": [
  {
   "cell_type": "code",
   "execution_count": 1,
   "metadata": {},
   "outputs": [
    {
     "name": "stdout",
     "output_type": "stream",
     "text": [
      "test\n"
     ]
    }
   ],
   "source": [
    "print(\"test\")"
   ]
  },
  {
   "cell_type": "code",
   "execution_count": 2,
   "metadata": {},
   "outputs": [
    {
     "name": "stdout",
     "output_type": "stream",
     "text": [
      "17 30\n"
     ]
    }
   ],
   "source": [
    "max_height = 0\n",
    "max_width = 0\n",
    "with open(f\"../levels/microban.txt\", \"r\") as file:\n",
    "    lines = file.readlines()\n",
    "    h=1\n",
    "    for i, line in enumerate(lines):\n",
    "        if line.startswith(f\"; {h}\"):\n",
    "            # find next line that starts with ;\n",
    "            h += 1\n",
    "            j=i+1\n",
    "            while not lines[j].startswith(f\";\"):\n",
    "                j += 1\n",
    "            level = [list(lines[k][:-1]) for k in range(i+2,j-1)]\n",
    "            height = len(level)\n",
    "            width = max([len(row) for row in level])\n",
    "            if height > max_height:\n",
    "                max_height = height\n",
    "            if width > max_width:\n",
    "                max_width = width\n",
    "\n",
    "print(max_height, max_width)\n",
    "# 17, 30\n",
    "# will choose 20, 30 as dimensions for now"
   ]
  }
 ],
 "metadata": {
  "kernelspec": {
   "display_name": "WarehouseKeeper",
   "language": "python",
   "name": "python3"
  },
  "language_info": {
   "codemirror_mode": {
    "name": "ipython",
    "version": 3
   },
   "file_extension": ".py",
   "mimetype": "text/x-python",
   "name": "python",
   "nbconvert_exporter": "python",
   "pygments_lexer": "ipython3",
   "version": "3.11.8"
  }
 },
 "nbformat": 4,
 "nbformat_minor": 2
}
